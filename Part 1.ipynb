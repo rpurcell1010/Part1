{
 "cells": [
  {
   "cell_type": "code",
   "execution_count": 167,
   "metadata": {},
   "outputs": [],
   "source": [
    "import pandas as pd\n",
    "\n",
    "file = '/Users/ryanpurcell/Desktop/sr_da_test.csv'\n",
    "df = pd.read_csv(file)"
   ]
  },
  {
   "cell_type": "code",
   "execution_count": 168,
   "metadata": {},
   "outputs": [],
   "source": [
    "def user_connections(df):\n",
    "    \n",
    "    count = 1\n",
    "    nextuser = 2\n",
    "    \n",
    "    while count < len(df.columns):\n",
    "        #note this could be updated to include different user combinations\n",
    "        #currently only looks at 2 columns in df: user_1 and user_2\n",
    "        list1 = list(df['user_'+str(count)])\n",
    "        list2 = list(df['user_'+str(nextuser)])\n",
    "        \n",
    "        #listconnections = connections\n",
    "        connections = {}\n",
    "        for i in list1:\n",
    "            connections[i] = list2.count(i)\n",
    "       \n",
    "        count +=1\n",
    "        nextuser +=1\n",
    "     \n",
    "    return connections"
   ]
  },
  {
   "cell_type": "code",
   "execution_count": 141,
   "metadata": {},
   "outputs": [
    {
     "data": {
      "text/plain": [
       "{'a': 2, 'b': 2, 'f': 2, 'g': 1, 'h': 3, 'q': 2}"
      ]
     },
     "execution_count": 141,
     "metadata": {},
     "output_type": "execute_result"
    }
   ],
   "source": [
    "user_connections(df)"
   ]
  },
  {
   "cell_type": "code",
   "execution_count": 169,
   "metadata": {},
   "outputs": [],
   "source": [
    "def user_connections_output(df):\n",
    "    \n",
    "    count = 1\n",
    "    nextuser = 2\n",
    "    \n",
    "    while count < len(df.columns):\n",
    "        #note this could be updated to include different user combinations\n",
    "        #currently only looks at 2 columns in df: user_1 and user_2\n",
    "        list1 = list(df['user_'+str(count)])\n",
    "        list2 = list(df['user_'+str(nextuser)])\n",
    "    \n",
    "        connections = {}\n",
    "        for i in list1:\n",
    "            connections[i] = list2.count(i)\n",
    "            number_of_mutual_connections = ('user_'+str(count)+', '+ 'user_'+str(nextuser)+', '+str(sum(connections.values())))\n",
    "        \n",
    "        count +=1\n",
    "        nextuser +=1\n",
    "        \n",
    "    return number_of_mutual_connections"
   ]
  },
  {
   "cell_type": "code",
   "execution_count": 170,
   "metadata": {},
   "outputs": [
    {
     "data": {
      "text/plain": [
       "'user_1, user_2, 12'"
      ]
     },
     "execution_count": 170,
     "metadata": {},
     "output_type": "execute_result"
    }
   ],
   "source": [
    "user_connections_output(df)"
   ]
  },
  {
   "cell_type": "markdown",
   "metadata": {},
   "source": [
    "Billion Users:\n",
    "    \n",
    "    The connections between a billion users would clearly be more complex. In the functions above, the loop\n",
    "    looks at only two users. The function could be set up to output combinations for multiple users and that is where\n",
    "    I think we could run into issues - trying to decide what users to compare or what groups of users to compare and\n",
    "    how we want to output the information.\n",
    "    \n",
    "    So, aside from more processing power, a billion users would require much more strategy on how the code takes user\n",
    "    combinations and how it outputs meaningful information.\n",
    "\n",
    "Thanks,\n",
    "Ryan\n",
    "    "
   ]
  }
 ],
 "metadata": {
  "kernelspec": {
   "display_name": "Python 3",
   "language": "python",
   "name": "python3"
  },
  "language_info": {
   "codemirror_mode": {
    "name": "ipython",
    "version": 3
   },
   "file_extension": ".py",
   "mimetype": "text/x-python",
   "name": "python",
   "nbconvert_exporter": "python",
   "pygments_lexer": "ipython3",
   "version": "3.6.3"
  }
 },
 "nbformat": 4,
 "nbformat_minor": 2
}
